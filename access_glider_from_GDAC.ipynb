{
 "cells": [
  {
   "cell_type": "markdown",
   "metadata": {},
   "source": [
    "# Glider data from the Glider Data Assembly center\n",
    "\n",
    "Glider data from the US Integrated Ocean Observing System\n",
    "\n",
    "A map of current glider deployments is available here:\n",
    "https://gliders.ioos.us/map/\n",
    "\n",
    "and data is available via THREDDS server: https://gliders.ioos.us/thredds/catalog/deployments/catalog.html"
   ]
  },
  {
   "cell_type": "code",
   "execution_count": 1,
   "metadata": {},
   "outputs": [
    {
     "name": "stderr",
     "output_type": "stream",
     "text": [
      "/Users/beaird/anaconda3/lib/python3.7/site-packages/xarray/core/merge.py:17: FutureWarning: The Panel class is removed from pandas. Accessing it from the top-level namespace will also be removed in the next version\n",
      "  PANDAS_TYPES = (pd.Series, pd.DataFrame, pd.Panel)\n"
     ]
    }
   ],
   "source": [
    "import xarray as xr\n",
    "import cartopy.crs as ccrs\n",
    "import matplotlib.pyplot as plt"
   ]
  },
  {
   "cell_type": "code",
   "execution_count": 9,
   "metadata": {},
   "outputs": [
    {
     "data": {
      "text/plain": [
       "<xarray.Dataset>\n",
       "Dimensions:                                  (obs: 247, profile: 1344, trajectory: 1)\n",
       "Coordinates:\n",
       "  * trajectory                               (trajectory) object 'bios_minnie-20191021T1613'\n",
       "    time                                     (trajectory, profile) float64 ...\n",
       "    latitude                                 (trajectory, profile) float64 ...\n",
       "    longitude                                (trajectory, profile) float64 ...\n",
       "    time_uv                                  (trajectory, profile) float64 ...\n",
       "    lat_uv                                   (trajectory, profile) float64 ...\n",
       "    lon_uv                                   (trajectory, profile) float64 ...\n",
       "    depth                                    (trajectory, profile, obs) float32 ...\n",
       "Dimensions without coordinates: obs, profile\n",
       "Data variables:\n",
       "    wmo_id                                   (trajectory) object ...\n",
       "    profile_id                               (trajectory, profile) float64 ...\n",
       "    u                                        (trajectory, profile) float64 ...\n",
       "    v                                        (trajectory, profile) float64 ...\n",
       "    precise_time                             (trajectory, profile, obs) float64 ...\n",
       "    pressure                                 (trajectory, profile, obs) float32 ...\n",
       "    temperature                              (trajectory, profile, obs) float32 ...\n",
       "    conductivity                             (trajectory, profile, obs) float32 ...\n",
       "    salinity                                 (trajectory, profile, obs) float32 ...\n",
       "    density                                  (trajectory, profile, obs) float32 ...\n",
       "    precise_lat                              (trajectory, profile, obs) float64 ...\n",
       "    precise_lon                              (trajectory, profile, obs) float64 ...\n",
       "    platform_meta                            (trajectory, profile, obs) float32 ...\n",
       "    instrument_ctd                           (trajectory, profile, obs) float32 ...\n",
       "    precise_lon_qc                           (trajectory, profile, obs) float32 ...\n",
       "    salinity_qc                              (trajectory, profile, obs) float32 ...\n",
       "    density_qc                               (trajectory, profile, obs) float32 ...\n",
       "    temperature_qc                           (trajectory, profile, obs) float32 ...\n",
       "    lat_uv_qc                                (trajectory, profile, obs) float32 ...\n",
       "    precise_time_qc                          (trajectory, profile, obs) float32 ...\n",
       "    longitude_qc                             (trajectory, profile, obs) float32 ...\n",
       "    pressure_qc                              (trajectory, profile, obs) float32 ...\n",
       "    time_uv_qc                               (trajectory, profile, obs) float32 ...\n",
       "    latitude_qc                              (trajectory, profile, obs) float32 ...\n",
       "    u_qc                                     (trajectory, profile, obs) float32 ...\n",
       "    v_qc                                     (trajectory, profile, obs) float32 ...\n",
       "    depth_qc                                 (trajectory, profile, obs) float32 ...\n",
       "    time_qc                                  (trajectory, profile, obs) float32 ...\n",
       "    lon_uv_qc                                (trajectory, profile, obs) float32 ...\n",
       "    precise_lat_qc                           (trajectory, profile, obs) float32 ...\n",
       "    conductivity_qc                          (trajectory, profile, obs) float32 ...\n",
       "    qartod_density_spike_flag                (trajectory, profile, obs) float32 ...\n",
       "    qartod_density_gross_range_flag          (trajectory, profile, obs) float32 ...\n",
       "    qartod_salinity_gross_range_flag         (trajectory, profile, obs) float32 ...\n",
       "    qartod_salinity_spike_flag               (trajectory, profile, obs) float32 ...\n",
       "    qartod_conductivity_primary_flag         (trajectory, profile, obs) float32 ...\n",
       "    qartod_conductivity_flat_line_flag       (trajectory, profile, obs) float32 ...\n",
       "    qartod_density_primary_flag              (trajectory, profile, obs) float32 ...\n",
       "    qartod_density_flat_line_flag            (trajectory, profile, obs) float32 ...\n",
       "    qartod_salinity_rate_of_change_flag      (trajectory, profile, obs) float32 ...\n",
       "    qartod_temperature_spike_flag            (trajectory, profile, obs) float32 ...\n",
       "    qartod_conductivity_gross_range_flag     (trajectory, profile, obs) float32 ...\n",
       "    qartod_pressure_gross_range_flag         (trajectory, profile, obs) float32 ...\n",
       "    qartod_density_rate_of_change_flag       (trajectory, profile, obs) float32 ...\n",
       "    qartod_temperature_flat_line_flag        (trajectory, profile, obs) float32 ...\n",
       "    qartod_pressure_spike_flag               (trajectory, profile, obs) float32 ...\n",
       "    qartod_pressure_primary_flag             (trajectory, profile, obs) float32 ...\n",
       "    qartod_conductivity_rate_of_change_flag  (trajectory, profile, obs) float32 ...\n",
       "    qartod_monotonic_pressure_flag           (trajectory, profile, obs) float32 ...\n",
       "    qartod_pressure_rate_of_change_flag      (trajectory, profile, obs) float32 ...\n",
       "    qartod_salinity_primary_flag             (trajectory, profile, obs) float32 ...\n",
       "    qartod_salinity_flat_line_flag           (trajectory, profile, obs) float32 ...\n",
       "    qartod_temperature_gross_range_flag      (trajectory, profile, obs) float32 ...\n",
       "    qartod_conductivity_spike_flag           (trajectory, profile, obs) float32 ...\n",
       "    qartod_temperature_rate_of_change_flag   (trajectory, profile, obs) float32 ...\n",
       "    qartod_pressure_flat_line_flag           (trajectory, profile, obs) float32 ...\n",
       "    qartod_temperature_primary_flag          (trajectory, profile, obs) float32 ...\n",
       "Attributes:\n",
       "    acknowledgment:                This deployment supported by the National ...\n",
       "    cdm_data_type:                 TrajectoryProfile\n",
       "    cdm_profile_variables:         time_uv,lat_uv,lon_uv,u,v,profile_id,time,...\n",
       "    cdm_trajectory_variables:      trajectory,wmo_id\n",
       "    contributor_name:              Ruth Curry\n",
       "    contributor_role:              Program PI\n",
       "    Conventions:                   Unidata Dataset Discovery v1.0, COARDS, CF...\n",
       "    creator_email:                 ruth.curry@bios.edu \n",
       "    creator_name:                  Ruth Curry \n",
       "    creator_url:                    magic.bios.edu\n",
       "    date_created:                  2020-01-24T15:33:48Z\n",
       "    date_issued:                   2020-01-24T15:33:48Z\n",
       "    Easternmost_Easting:           -63.87705965323364\n",
       "    featureType:                   TrajectoryProfile\n",
       "    format_version:                IOOS_Glider_NetCDF_v3.0-noqartod.nc\n",
       "    geospatial_lat_max:            31.866578100508015\n",
       "    geospatial_lat_min:            31.65864874487505\n",
       "    geospatial_lat_units:          degrees_north\n",
       "    geospatial_lon_max:            -63.87705965323364\n",
       "    geospatial_lon_min:            -64.09326739855638\n",
       "    geospatial_lon_units:          degrees_east\n",
       "    geospatial_vertical_max:       88.961\n",
       "    geospatial_vertical_min:       1.0\n",
       "    geospatial_vertical_positive:  down\n",
       "    geospatial_vertical_units:     m\n",
       "    history:                       2020-01-24T15:33:48Z Y:Glidersmfilesslocum...\n",
       "    id:                            bios_minnie-20191021T1613_f070_8f49_1646\n",
       "    infoUrl:                       http://data.ioos.us/gliders/erddap/\n",
       "    institution:                   Bermuda Institute of Ocean Sciences \n",
       "    ioos_dac_checksum:             9428ac57cb26f2c0b68a1afa4f578ae3\n",
       "    ioos_dac_completed:            False\n",
       "    keywords:                      AUVS > Autonomous Underwater Vehicles, Oce...\n",
       "    keywords_vocabulary:           GCMD Science Keywords\n",
       "    license:                       This data may be redistributed and used wi...\n",
       "    Metadata_Conventions:          Unidata Dataset Discovery v1.0, COARDS, CF...\n",
       "    naming_authority:              bios.edu\n",
       "    Northernmost_Northing:         31.866578100508015\n",
       "    platform_type:                 Slocum Glider\n",
       "    processing_level:              Data provided are provided in near realtim...\n",
       "    project:                       MAGIC: Mid Atlantic Glider Initiative and ...\n",
       "    publisher_email:               ruth.curry@bios.edu \n",
       "    publisher_name:                 Ruth Curry\n",
       "    publisher_url:                  magic.bios.edu\n",
       "    sea_name:                      Northwest Atlantic Ocean\n",
       "    source:                        Observational data from a profiling glider\n",
       "    sourceUrl:                     (local files)\n",
       "    Southernmost_Northing:         31.65864874487505\n",
       "    standard_name_vocabulary:      CF-v25\n",
       "    subsetVariables:               trajectory,wmo_id,time_uv,lat_uv,lon_uv,u,...\n",
       "    summary:                       The Bermuda Institute of Ocean Sciences MA...\n",
       "    time_coverage_end:             2020-01-24T12:56:01Z\n",
       "    time_coverage_start:           2019-10-21T16:26:39Z\n",
       "    title:                         bios_minnie-20191021T1613\n",
       "    Westernmost_Easting:           -64.09326739855638\n",
       "    DODS.strlen:                   7\n",
       "    DODS.dimName:                  wmo_id_strlen"
      ]
     },
     "execution_count": 9,
     "metadata": {},
     "output_type": "execute_result"
    }
   ],
   "source": [
    "# url = 'http://gliders.ioos.us/thredds/dodsC/deployments/mbari/UW157-20190916T0000/UW157-20190916T0000.nc3.nc'\n",
    "url = 'http://gliders.ioos.us/thredds/dodsC/deployments/bios/bios_minnie-20191021T1613/bios_minnie-20191021T1613.nc3.nc'\n",
    "\n",
    "gl = xr.open_dataset(url, decode_times=False)\n",
    "\n",
    "gl"
   ]
  },
  {
   "cell_type": "markdown",
   "metadata": {},
   "source": [
    "# data dimensions are profile and observation number\n",
    "but its not actually gridded, and adjacent profiles are going in oposite directions (observation 1 is at the surface in profile 1, and observation 1 is at depth in profile two)"
   ]
  },
  {
   "cell_type": "code",
   "execution_count": 6,
   "metadata": {},
   "outputs": [
    {
     "data": {
      "text/plain": [
       "<xarray.Dataset>\n",
       "Dimensions:          (obs: 521, profile: 1068)\n",
       "Coordinates:\n",
       "    trajectory       <U19 'UW157-20190916T0000'\n",
       "    time             (profile) datetime64[ns] ...\n",
       "    latitude         (profile) float64 ...\n",
       "    longitude        (profile) float64 ...\n",
       "    time_uv          (profile) datetime64[ns] ...\n",
       "    lat_uv           (profile) float64 ...\n",
       "    lon_uv           (profile) float64 ...\n",
       "    depth            (profile, obs) float32 ...\n",
       "Dimensions without coordinates: obs, profile\n",
       "Data variables:\n",
       "    wmo_id           object ...\n",
       "    profile_id       (profile) float64 ...\n",
       "    u                (profile) float64 ...\n",
       "    v                (profile) float64 ...\n",
       "    precise_time     (profile, obs) datetime64[ns] ...\n",
       "    pressure         (profile, obs) float32 ...\n",
       "    temperature      (profile, obs) float32 ...\n",
       "    conductivity     (profile, obs) float32 ...\n",
       "    salinity         (profile, obs) float32 ...\n",
       "    density          (profile, obs) float32 ...\n",
       "    precise_lat      (profile, obs) float64 ...\n",
       "    precise_lon      (profile, obs) float64 ...\n",
       "    platform_meta    (profile, obs) float32 ...\n",
       "    instrument_ctd   (profile, obs) float32 ...\n",
       "    precise_lon_qc   (profile, obs) float32 ...\n",
       "    salinity_qc      (profile, obs) float32 ...\n",
       "    density_qc       (profile, obs) float32 ...\n",
       "    temperature_qc   (profile, obs) float32 ...\n",
       "    lat_uv_qc        (profile, obs) float32 ...\n",
       "    precise_time_qc  (profile, obs) float32 ...\n",
       "    longitude_qc     (profile, obs) float32 ...\n",
       "    pressure_qc      (profile, obs) float32 ...\n",
       "    time_uv_qc       (profile, obs) float32 ...\n",
       "    latitude_qc      (profile, obs) float32 ...\n",
       "    u_qc             (profile, obs) float32 ...\n",
       "    v_qc             (profile, obs) float32 ...\n",
       "    depth_qc         (profile, obs) float32 ...\n",
       "    time_qc          (profile, obs) float32 ...\n",
       "    lon_uv_qc        (profile, obs) float32 ...\n",
       "    precise_lat_qc   (profile, obs) float32 ...\n",
       "    conductivity_qc  (profile, obs) float32 ...\n",
       "    fluorescence     (profile, obs) float64 ...\n",
       "    fluorescence_qc  (profile, obs) float32 ...\n",
       "    oxygen           (profile, obs) float64 ...\n",
       "    oxygen_qc        (profile, obs) float32 ...\n",
       "Attributes:\n",
       "    acknowledgment:                Integrated Ocean Observing System (IOOS)NA...\n",
       "    cdm_data_type:                 TrajectoryProfile\n",
       "    cdm_profile_variables:         time_uv,lat_uv,lon_uv,u,v,profile_id,time,...\n",
       "    cdm_trajectory_variables:      trajectory,wmo_id\n",
       "    comment:                       Data has not been reviewed and is provided...\n",
       "    contributor_name:              Jack Barth, R. Kipp Shearman\n",
       "    contributor_role:              Principal investigator, Principal investig...\n",
       "    Conventions:                   Unidata Dataset Discovery v1.0, COARDS, CF...\n",
       "    creator_email:                 barth@coas.oregonstate.edu\n",
       "    creator_name:                  Jack Barth\n",
       "    creator_url:                   gliderfs2.coas.oregonstate.edu/gliderweb\n",
       "    date_created:                  2020-01-24T17:01:23Z\n",
       "    date_issued:                   2020-01-24T17:01:23Z\n",
       "    date_modified:                 2020-01-24T17:01:23Z\n",
       "    Easternmost_Easting:           -124.34995644076315\n",
       "    featureType:                   TrajectoryProfile\n",
       "    format_version:                IOOS_Glider_NetCDF_v2.0.nc\n",
       "    geospatial_lat_max:            41.106238251717976\n",
       "    geospatial_lat_min:            40.842825000000005\n",
       "    geospatial_lat_units:          degrees_north\n",
       "    geospatial_lon_max:            -124.34995644076315\n",
       "    geospatial_lon_min:            -130.00003137243965\n",
       "    geospatial_lon_units:          degrees_east\n",
       "    geospatial_vertical_max:       1008.427\n",
       "    geospatial_vertical_min:       -0.2888346\n",
       "    geospatial_vertical_positive:  down\n",
       "    geospatial_vertical_units:     m\n",
       "    gts_ingest:                    true\n",
       "    history:                       Processing start:\\nINFO: QC.py(378): Chang...\n",
       "    id:                            UW157-20190916T0000_f070_8f49_1646\n",
       "    infoUrl:                       http://data.ioos.us/gliders/erddap/\n",
       "    institution:                   Oregon State University\n",
       "    ioos_dac_checksum:             d3f9b2f429e81483662b0cc5033c1957\n",
       "    ioos_dac_completed:            False\n",
       "    ioos_regional_association:     CeNCOOS,NANOOS\n",
       "    keywords:                      AUVS > Autonomous Underwater Vehicles, Oce...\n",
       "    keywords_vocabulary:           GCMD Science Keywords\n",
       "    license:                       These data may be redistributed and used w...\n",
       "    Metadata_Conventions:          Unidata Dataset Discovery v1.0, COARDS, CF...\n",
       "    naming_authority:              edu.washington.apl\n",
       "    Northernmost_Northing:         41.106238251717976\n",
       "    platform_type:                 Seaglider\n",
       "    processing_level:              1.120000\n",
       "    project:                       IOOS Oregon State University seaglider sam...\n",
       "    publisher_email:               cencoos_communications@mbari.org\n",
       "    publisher_name:                Central and Northern California Ocean Obse...\n",
       "    publisher_url:                 www.cencoos.org\n",
       "    references:                    http://data.nodc.noaa.gov/accession/0092291\n",
       "    sea_name:                      North Pacific Ocean\n",
       "    source:                        Seaglider UW157\n",
       "    sourceUrl:                     (local files)\n",
       "    Southernmost_Northing:         40.842825000000005\n",
       "    standard_name_vocabulary:      CF-1.6\n",
       "    subsetVariables:               trajectory,wmo_id,time_uv,lat_uv,lon_uv,u,...\n",
       "    summary:                       Seaglider UW157 Trinidad Head IOOS line, C...\n",
       "    time_coverage_end:             2020-01-24T16:10:49Z\n",
       "    time_coverage_start:           2019-09-16T18:03:12Z\n",
       "    title:                         UW157-20190916T0000\n",
       "    Westernmost_Easting:           -130.00003137243965\n",
       "    DODS.strlen:                   9\n",
       "    DODS.dimName:                  wmo_id_strlen"
      ]
     },
     "execution_count": 6,
     "metadata": {},
     "output_type": "execute_result"
    }
   ],
   "source": [
    "gl.squeeze()"
   ]
  },
  {
   "cell_type": "code",
   "execution_count": 11,
   "metadata": {},
   "outputs": [
    {
     "data": {
      "text/plain": [
       "(0, 50)"
      ]
     },
     "execution_count": 11,
     "metadata": {},
     "output_type": "execute_result"
    },
    {
     "data": {
      "image/png": "[encoded data removed]",
      "text/plain": [
       "<Figure size 432x288 with 2 Axes>"
      ]
     },
     "metadata": {
      "needs_background": "light"
     },
     "output_type": "display_data"
    }
   ],
   "source": [
    "gl.depth.squeeze().plot()\n",
    "plt.ylim(0,50)"
   ]
  },
  {
   "cell_type": "code",
   "execution_count": 20,
   "metadata": {},
   "outputs": [
    {
     "ename": "ValueError",
     "evalue": "x and y must be the same size",
     "output_type": "error",
     "traceback": [
      "\u001b[0;31m---------------------------------------------------------------------------\u001b[0m",
      "\u001b[0;31mValueError\u001b[0m                                Traceback (most recent call last)",
      "\u001b[0;32m<ipython-input-20-b1edff1fd581>\u001b[0m in \u001b[0;36m<module>\u001b[0;34m\u001b[0m\n\u001b[0;32m----> 1\u001b[0;31m \u001b[0mplt\u001b[0m\u001b[0;34m.\u001b[0m\u001b[0mscatter\u001b[0m\u001b[0;34m(\u001b[0m\u001b[0mgl\u001b[0m\u001b[0;34m.\u001b[0m\u001b[0mtime\u001b[0m\u001b[0;34m.\u001b[0m\u001b[0msqueeze\u001b[0m\u001b[0;34m(\u001b[0m\u001b[0;34m)\u001b[0m\u001b[0;34m.\u001b[0m\u001b[0mvalues\u001b[0m\u001b[0;34m.\u001b[0m\u001b[0mravel\u001b[0m\u001b[0;34m(\u001b[0m\u001b[0;34m)\u001b[0m\u001b[0;34m,\u001b[0m \u001b[0mgl\u001b[0m\u001b[0;34m.\u001b[0m\u001b[0mpressure\u001b[0m\u001b[0;34m.\u001b[0m\u001b[0msqueeze\u001b[0m\u001b[0;34m(\u001b[0m\u001b[0;34m)\u001b[0m\u001b[0;34m.\u001b[0m\u001b[0mvalues\u001b[0m\u001b[0;34m.\u001b[0m\u001b[0mravel\u001b[0m\u001b[0;34m(\u001b[0m\u001b[0;34m)\u001b[0m\u001b[0;34m,\u001b[0m  \u001b[0mc\u001b[0m\u001b[0;34m=\u001b[0m\u001b[0mgl\u001b[0m\u001b[0;34m.\u001b[0m\u001b[0mtemperature\u001b[0m\u001b[0;34m.\u001b[0m\u001b[0msqueeze\u001b[0m\u001b[0;34m(\u001b[0m\u001b[0;34m)\u001b[0m\u001b[0;34m.\u001b[0m\u001b[0mvalues\u001b[0m\u001b[0;34m.\u001b[0m\u001b[0mravel\u001b[0m\u001b[0;34m(\u001b[0m\u001b[0;34m)\u001b[0m\u001b[0;34m)\u001b[0m\u001b[0;34m;\u001b[0m\u001b[0;34m\u001b[0m\u001b[0;34m\u001b[0m\u001b[0m\n\u001b[0m",
      "\u001b[0;32m~/anaconda3/lib/python3.7/site-packages/matplotlib/pyplot.py\u001b[0m in \u001b[0;36mscatter\u001b[0;34m(x, y, s, c, marker, cmap, norm, vmin, vmax, alpha, linewidths, verts, edgecolors, plotnonfinite, data, **kwargs)\u001b[0m\n\u001b[1;32m   2845\u001b[0m         \u001b[0mverts\u001b[0m\u001b[0;34m=\u001b[0m\u001b[0mverts\u001b[0m\u001b[0;34m,\u001b[0m \u001b[0medgecolors\u001b[0m\u001b[0;34m=\u001b[0m\u001b[0medgecolors\u001b[0m\u001b[0;34m,\u001b[0m\u001b[0;34m\u001b[0m\u001b[0;34m\u001b[0m\u001b[0m\n\u001b[1;32m   2846\u001b[0m         plotnonfinite=plotnonfinite, **({\"data\": data} if data is not\n\u001b[0;32m-> 2847\u001b[0;31m         None else {}), **kwargs)\n\u001b[0m\u001b[1;32m   2848\u001b[0m     \u001b[0msci\u001b[0m\u001b[0;34m(\u001b[0m\u001b[0m__ret\u001b[0m\u001b[0;34m)\u001b[0m\u001b[0;34m\u001b[0m\u001b[0;34m\u001b[0m\u001b[0m\n\u001b[1;32m   2849\u001b[0m     \u001b[0;32mreturn\u001b[0m \u001b[0m__ret\u001b[0m\u001b[0;34m\u001b[0m\u001b[0;34m\u001b[0m\u001b[0m\n",
      "\u001b[0;32m~/anaconda3/lib/python3.7/site-packages/matplotlib/__init__.py\u001b[0m in \u001b[0;36minner\u001b[0;34m(ax, data, *args, **kwargs)\u001b[0m\n\u001b[1;32m   1599\u001b[0m     \u001b[0;32mdef\u001b[0m \u001b[0minner\u001b[0m\u001b[0;34m(\u001b[0m\u001b[0max\u001b[0m\u001b[0;34m,\u001b[0m \u001b[0;34m*\u001b[0m\u001b[0margs\u001b[0m\u001b[0;34m,\u001b[0m \u001b[0mdata\u001b[0m\u001b[0;34m=\u001b[0m\u001b[0;32mNone\u001b[0m\u001b[0;34m,\u001b[0m \u001b[0;34m**\u001b[0m\u001b[0mkwargs\u001b[0m\u001b[0;34m)\u001b[0m\u001b[0;34m:\u001b[0m\u001b[0;34m\u001b[0m\u001b[0;34m\u001b[0m\u001b[0m\n\u001b[1;32m   1600\u001b[0m         \u001b[0;32mif\u001b[0m \u001b[0mdata\u001b[0m \u001b[0;32mis\u001b[0m \u001b[0;32mNone\u001b[0m\u001b[0;34m:\u001b[0m\u001b[0;34m\u001b[0m\u001b[0;34m\u001b[0m\u001b[0m\n\u001b[0;32m-> 1601\u001b[0;31m             \u001b[0;32mreturn\u001b[0m \u001b[0mfunc\u001b[0m\u001b[0;34m(\u001b[0m\u001b[0max\u001b[0m\u001b[0;34m,\u001b[0m \u001b[0;34m*\u001b[0m\u001b[0mmap\u001b[0m\u001b[0;34m(\u001b[0m\u001b[0msanitize_sequence\u001b[0m\u001b[0;34m,\u001b[0m \u001b[0margs\u001b[0m\u001b[0;34m)\u001b[0m\u001b[0;34m,\u001b[0m \u001b[0;34m**\u001b[0m\u001b[0mkwargs\u001b[0m\u001b[0;34m)\u001b[0m\u001b[0;34m\u001b[0m\u001b[0;34m\u001b[0m\u001b[0m\n\u001b[0m\u001b[1;32m   1602\u001b[0m \u001b[0;34m\u001b[0m\u001b[0m\n\u001b[1;32m   1603\u001b[0m         \u001b[0mbound\u001b[0m \u001b[0;34m=\u001b[0m \u001b[0mnew_sig\u001b[0m\u001b[0;34m.\u001b[0m\u001b[0mbind\u001b[0m\u001b[0;34m(\u001b[0m\u001b[0max\u001b[0m\u001b[0;34m,\u001b[0m \u001b[0;34m*\u001b[0m\u001b[0margs\u001b[0m\u001b[0;34m,\u001b[0m \u001b[0;34m**\u001b[0m\u001b[0mkwargs\u001b[0m\u001b[0;34m)\u001b[0m\u001b[0;34m\u001b[0m\u001b[0;34m\u001b[0m\u001b[0m\n",
      "\u001b[0;32m~/anaconda3/lib/python3.7/site-packages/matplotlib/axes/_axes.py\u001b[0m in \u001b[0;36mscatter\u001b[0;34m(self, x, y, s, c, marker, cmap, norm, vmin, vmax, alpha, linewidths, verts, edgecolors, plotnonfinite, **kwargs)\u001b[0m\n\u001b[1;32m   4442\u001b[0m         \u001b[0my\u001b[0m \u001b[0;34m=\u001b[0m \u001b[0mnp\u001b[0m\u001b[0;34m.\u001b[0m\u001b[0mma\u001b[0m\u001b[0;34m.\u001b[0m\u001b[0mravel\u001b[0m\u001b[0;34m(\u001b[0m\u001b[0my\u001b[0m\u001b[0;34m)\u001b[0m\u001b[0;34m\u001b[0m\u001b[0;34m\u001b[0m\u001b[0m\n\u001b[1;32m   4443\u001b[0m         \u001b[0;32mif\u001b[0m \u001b[0mx\u001b[0m\u001b[0;34m.\u001b[0m\u001b[0msize\u001b[0m \u001b[0;34m!=\u001b[0m \u001b[0my\u001b[0m\u001b[0;34m.\u001b[0m\u001b[0msize\u001b[0m\u001b[0;34m:\u001b[0m\u001b[0;34m\u001b[0m\u001b[0;34m\u001b[0m\u001b[0m\n\u001b[0;32m-> 4444\u001b[0;31m             \u001b[0;32mraise\u001b[0m \u001b[0mValueError\u001b[0m\u001b[0;34m(\u001b[0m\u001b[0;34m\"x and y must be the same size\"\u001b[0m\u001b[0;34m)\u001b[0m\u001b[0;34m\u001b[0m\u001b[0;34m\u001b[0m\u001b[0m\n\u001b[0m\u001b[1;32m   4445\u001b[0m \u001b[0;34m\u001b[0m\u001b[0m\n\u001b[1;32m   4446\u001b[0m         \u001b[0;32mif\u001b[0m \u001b[0ms\u001b[0m \u001b[0;32mis\u001b[0m \u001b[0;32mNone\u001b[0m\u001b[0;34m:\u001b[0m\u001b[0;34m\u001b[0m\u001b[0;34m\u001b[0m\u001b[0m\n",
      "\u001b[0;31mValueError\u001b[0m: x and y must be the same size"
     ]
    },
    {
     "data": {
      "image/png": "[encoded data removed]",
      "text/plain": [
       "<Figure size 432x288 with 1 Axes>"
      ]
     },
     "metadata": {
      "needs_background": "light"
     },
     "output_type": "display_data"
    }
   ],
   "source": [
    "plt.scatter(gl.time.squeeze().values.ravel(), gl.pressure.squeeze().values.ravel(),  c=gl.temperature.squeeze().values.ravel());"
   ]
  },
  {
   "cell_type": "code",
   "execution_count": null,
   "metadata": {},
   "outputs": [],
   "source": []
  }
 ],
 "metadata": {
  "kernelspec": {
   "display_name": "Python 3",
   "language": "python",
   "name": "python3"
  },
  "language_info": {
   "codemirror_mode": {
    "name": "ipython",
    "version": 3
   },
   "file_extension": ".py",
   "mimetype": "text/x-python",
   "name": "python",
   "nbconvert_exporter": "python",
   "pygments_lexer": "ipython3",
   "version": "3.7.3"
  }
 },
 "nbformat": 4,
 "nbformat_minor": 4
}
